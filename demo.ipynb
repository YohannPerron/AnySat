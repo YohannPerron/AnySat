{
 "cells": [
  {
   "cell_type": "markdown",
   "metadata": {},
   "source": [
    "# AnySat Guide"
   ]
  },
  {
   "cell_type": "markdown",
   "metadata": {},
   "source": [
    "#### Simple Usage"
   ]
  },
  {
   "cell_type": "markdown",
   "metadata": {},
   "source": [
    "AnySat is available through PyTorch Hub."
   ]
  },
  {
   "cell_type": "code",
   "execution_count": 4,
   "metadata": {},
   "outputs": [
    {
     "name": "stderr",
     "output_type": "stream",
     "text": [
      "Downloading: \"https://github.com/gastruc/anysat/zipball/main\" to /home/GAstruc/.cache/torch/hub/main.zip\n"
     ]
    }
   ],
   "source": [
    "import torch\n",
    "\n",
    "model = torch.hub.load('gastruc/anysat', 'anysat', pretrained=True, force_reload=True, flash_attn=False)"
   ]
  },
  {
   "cell_type": "markdown",
   "metadata": {},
   "source": [
    "#### Local usage"
   ]
  },
  {
   "cell_type": "markdown",
   "metadata": {},
   "source": [
    "Repo installation:\n",
    "\n",
    "```bash\n",
    "git clone https://github.com/gastruc/AnySat.git\n",
    "cd AnySat\n",
    "pip install -e AnySat\n",
    "```\n",
    "\n"
   ]
  },
  {
   "cell_type": "code",
   "execution_count": 1,
   "metadata": {},
   "outputs": [],
   "source": [
    "from hubconf import AnySat\n",
    "\n",
    "model = AnySat.from_pretrained('base', flash_attn=False) #Set flash_attn=True if you have flash-attn module installed (url flash attn)\n",
    "#device = \"cuda\" If you want to run on GPU default is cpu"
   ]
  },
  {
   "cell_type": "markdown",
   "metadata": {},
   "source": [
    "#### Experiments Reproduction\n",
    "\n",
    "All experiments are available in the [experiments](https://github.com/gastruc/AnySat/tree/main/experiments) folder.\n",
    "\n",
    "For the reproduction of AnySat envirnoment run:\n",
    "\n",
    "```bash\n",
    "# clone project\n",
    "git clone https://github.com/gastruc/anysat\n",
    "cd anysat\n",
    "\n",
    "# [OPTIONAL] create conda environment\n",
    "conda create -n anysat python=3.9\n",
    "conda activate anysat\n",
    "\n",
    "# install requirements\n",
    "pip install -r requirements.txt\n",
    "\n",
    "# Create data folder where you can put your datasets\n",
    "mkdir data\n",
    "# Create logs folder\n",
    "mkdir logs\n",
    "```\n",
    "\n",
    "And Then run the experiment you want:\n",
    "\n",
    "```bash\n",
    "# Run AnySat pretraining on GeoPlex\n",
    "python src/train.py exp=GeoPlex_AnySAT\n",
    "\n",
    "# Run AnySat finetuning on BraDD-S1TS\n",
    "python src/train.py exp=BraDD_AnySAT_FT\n",
    "\n",
    "# Run AnySat linear probing on BraDD-S1TS\n",
    "python src/train.py exp=BraDD_AnySAT_LP\n",
    "```\n",
    "\n",
    "You can modify through hydra all parameters you want. For example to train a Small version of AnySat on GeoPlex datasets, run:\n",
    "\n",
    "```bash\n",
    "python src/train.py exp=GeoPlex_AnySAT model=Any_Small_multi\n",
    "```\n",
    "\n"
   ]
  },
  {
   "cell_type": "markdown",
   "metadata": {},
   "source": [
    "## Inference on AnySat"
   ]
  },
  {
   "cell_type": "markdown",
   "metadata": {},
   "source": [
    "#### Template of data "
   ]
  },
  {
   "cell_type": "markdown",
   "metadata": {},
   "source": [
    "We are gonna use an example from S2Naip dataset."
   ]
  },
  {
   "cell_type": "code",
   "execution_count": 2,
   "metadata": {},
   "outputs": [],
   "source": [
    "import torch"
   ]
  },
  {
   "cell_type": "code",
   "execution_count": 3,
   "metadata": {},
   "outputs": [],
   "source": [
    "data = {\n",
    "    \"s2\": torch.randn(2, 4, 10, 8, 8), #2 batch size, 4 dates, 10 channels, 8x8 pixels\n",
    "    \"s2_dates\": torch.randint(0, 367, (2, 4)),\n",
    "}"
   ]
  },
  {
   "cell_type": "markdown",
   "metadata": {},
   "source": [
    "You can specify the type of output you want:\n",
    "- 'tile': to get the tile features\n",
    "- 'patch': to get the patch features\n",
    "- 'dense': to get the dense map at subpatch level\n",
    "    - If dense is selected, you can specify the modality you want to keep with modality_keep parameter, default is the first modality in the data.\n"
   ]
  },
  {
   "cell_type": "code",
   "execution_count": 4,
   "metadata": {},
   "outputs": [
    {
     "name": "stdout",
     "output_type": "stream",
     "text": [
      "torch.Size([2, 768])\n"
     ]
    }
   ],
   "source": [
    "features = model(data, patch_size=10, output='tile') \n",
    "print(features.shape)"
   ]
  },
  {
   "cell_type": "code",
   "execution_count": 5,
   "metadata": {},
   "outputs": [
    {
     "name": "stdout",
     "output_type": "stream",
     "text": [
      "torch.Size([2, 64, 768])\n"
     ]
    }
   ],
   "source": [
    "features = model(data, patch_size=10, output='patch') \n",
    "print(features.shape)"
   ]
  },
  {
   "cell_type": "code",
   "execution_count": 6,
   "metadata": {},
   "outputs": [
    {
     "name": "stdout",
     "output_type": "stream",
     "text": [
      "torch.Size([2, 16, 768])\n"
     ]
    }
   ],
   "source": [
    "features = model(data, patch_size=20, output='patch') \n",
    "print(features.shape)"
   ]
  },
  {
   "cell_type": "code",
   "execution_count": 8,
   "metadata": {},
   "outputs": [
    {
     "name": "stdout",
     "output_type": "stream",
     "text": [
      "torch.Size([2, 1, 768])\n"
     ]
    }
   ],
   "source": [
    "features = model(data, patch_size=80, output='patch') \n",
    "print(features.shape)"
   ]
  },
  {
   "cell_type": "code",
   "execution_count": 11,
   "metadata": {},
   "outputs": [
    {
     "name": "stdout",
     "output_type": "stream",
     "text": [
      "torch.Size([2, 16, 4, 1536])\n"
     ]
    }
   ],
   "source": [
    "features = model(data, patch_size=20, output='dense', modality_keep=\"s2\") \n",
    "print(features.shape)"
   ]
  },
  {
   "cell_type": "code",
   "execution_count": null,
   "metadata": {},
   "outputs": [],
   "source": []
  }
 ],
 "metadata": {
  "kernelspec": {
   "display_name": "myenv",
   "language": "python",
   "name": "python3"
  },
  "language_info": {
   "codemirror_mode": {
    "name": "ipython",
    "version": 3
   },
   "file_extension": ".py",
   "mimetype": "text/x-python",
   "name": "python",
   "nbconvert_exporter": "python",
   "pygments_lexer": "ipython3",
   "version": "3.9.17"
  }
 },
 "nbformat": 4,
 "nbformat_minor": 2
}
